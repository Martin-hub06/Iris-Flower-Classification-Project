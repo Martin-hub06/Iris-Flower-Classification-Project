{
  "cells": [
    {
      "cell_type": "markdown",
      "source": [
        "Import Libraries"
      ],
      "metadata": {
        "id": "2cTUaAvCuWk_"
      },
      "id": "2cTUaAvCuWk_"
    },
    {
      "cell_type": "code",
      "execution_count": null,
      "id": "4132e179",
      "metadata": {
        "id": "4132e179"
      },
      "outputs": [],
      "source": [
        "# Basic libraries\n",
        "import numpy as np\n",
        "import pandas as pd\n",
        "\n",
        "# Visualization libraries\n",
        "import seaborn as sns\n",
        "import matplotlib.pyplot as plt\n",
        "\n",
        "# Machine learning libraries\n",
        "from sklearn.datasets import load_iris\n",
        "from sklearn.model_selection import train_test_split\n",
        "from sklearn.neighbors import KNeighborsClassifier\n",
        "from sklearn.tree import DecisionTreeClassifier\n",
        "from sklearn.metrics import accuracy_score, classification_report, confusion_matrix"
      ]
    },
    {
      "cell_type": "markdown",
      "source": [
        "Load the Dataset"
      ],
      "metadata": {
        "id": "rAYSB1yHumyZ"
      },
      "id": "rAYSB1yHumyZ"
    },
    {
      "cell_type": "code",
      "execution_count": null,
      "id": "dea62631",
      "metadata": {
        "id": "dea62631"
      },
      "outputs": [],
      "source": [
        "# Load the iris dataset from sklearn\n",
        "iris = load_iris()\n",
        "\n",
        "# Create a DataFrame\n",
        "df = pd.DataFrame(data=iris.data, columns=iris.feature_names)\n",
        "df['species'] = pd.Categorical.from_codes(iris.target, iris.target_names)"
      ]
    },
    {
      "cell_type": "markdown",
      "source": [
        "Explore and Preprocess the Dataset"
      ],
      "metadata": {
        "id": "p7iuLEbhuu1h"
      },
      "id": "p7iuLEbhuu1h"
    },
    {
      "cell_type": "code",
      "execution_count": null,
      "id": "cc1ac90c",
      "metadata": {
        "id": "cc1ac90c"
      },
      "outputs": [],
      "source": [
        "# View the first few rows\n",
        "print(\"First five rows of the dataset:\")\n",
        "print(df.head())\n",
        "\n",
        "# View data types and non-null counts\n",
        "print(\"\\nData Info:\")\n",
        "print(df.info())\n",
        "\n",
        "# Summary statistics\n",
        "print(\"\\nStatistical Summary:\")\n",
        "print(df.describe())"
      ]
    },
    {
      "cell_type": "markdown",
      "source": [
        "Data Visualization(Pair Plot)"
      ],
      "metadata": {
        "id": "FECBxJtUu1gn"
      },
      "id": "FECBxJtUu1gn"
    },
    {
      "cell_type": "code",
      "execution_count": null,
      "id": "1ffdebe9",
      "metadata": {
        "id": "1ffdebe9"
      },
      "outputs": [],
      "source": [
        "# Pair plot to see relationships\n",
        "sns.pairplot(df, hue='species')\n",
        "plt.suptitle(\"Pair Plot of Iris Features\", y=1.02)\n",
        "plt.show()"
      ]
    },
    {
      "cell_type": "markdown",
      "source": [
        "Data Visualization(Correlation Heatmap)"
      ],
      "metadata": {
        "id": "F-RfXL9Su72B"
      },
      "id": "F-RfXL9Su72B"
    },
    {
      "cell_type": "code",
      "execution_count": null,
      "id": "6178d65f",
      "metadata": {
        "id": "6178d65f"
      },
      "outputs": [],
      "source": [
        "# Correlation heatmap of features\n",
        "plt.figure(figsize=(8,6))\n",
        "sns.heatmap(df.iloc[:, :4].corr(), annot=True, cmap='coolwarm')\n",
        "plt.title(\"Feature Correlation Heatmap\")\n",
        "plt.show()"
      ]
    },
    {
      "cell_type": "markdown",
      "source": [
        "Split the Data"
      ],
      "metadata": {
        "id": "1NBO4tczvDtS"
      },
      "id": "1NBO4tczvDtS"
    },
    {
      "cell_type": "code",
      "execution_count": null,
      "id": "5812c1d2",
      "metadata": {
        "id": "5812c1d2"
      },
      "outputs": [],
      "source": [
        "# Split features and labels\n",
        "X = df.drop('species', axis=1)\n",
        "y = df['species']\n",
        "\n",
        "# Train-test split\n",
        "X_train, X_test, y_train, y_test = train_test_split(X, y, test_size=0.2, random_state=42)"
      ]
    },
    {
      "cell_type": "markdown",
      "source": [
        "Train K-Nearest Neighbors Model"
      ],
      "metadata": {
        "id": "aF8gnMtgvc48"
      },
      "id": "aF8gnMtgvc48"
    },
    {
      "cell_type": "code",
      "execution_count": null,
      "id": "8a41027c",
      "metadata": {
        "id": "8a41027c"
      },
      "outputs": [],
      "source": [
        "# Initialize and train KNN model\n",
        "knn = KNeighborsClassifier()\n",
        "knn.fit(X_train, y_train)"
      ]
    },
    {
      "cell_type": "markdown",
      "source": [
        "Evaluate KNN Model"
      ],
      "metadata": {
        "id": "yRs9AMPNvd28"
      },
      "id": "yRs9AMPNvd28"
    },
    {
      "cell_type": "code",
      "execution_count": null,
      "id": "ef1ed584",
      "metadata": {
        "id": "ef1ed584"
      },
      "outputs": [],
      "source": [
        "# Predict and evaluate KNN\n",
        "y_pred_knn = knn.predict(X_test)\n",
        "print(\"KNN Accuracy:\", accuracy_score(y_test, y_pred_knn))\n",
        "print(\"KNN Classification Report:\\n\", classification_report(y_test, y_pred_knn))"
      ]
    },
    {
      "cell_type": "markdown",
      "source": [
        "Train Decision Tree Model"
      ],
      "metadata": {
        "id": "KTu9_L7ZvihK"
      },
      "id": "KTu9_L7ZvihK"
    },
    {
      "cell_type": "code",
      "execution_count": null,
      "id": "25d1e16f",
      "metadata": {
        "id": "25d1e16f"
      },
      "outputs": [],
      "source": [
        "# Initialize and train Decision Tree\n",
        "dtree = DecisionTreeClassifier()\n",
        "dtree.fit(X_train, y_train)"
      ]
    },
    {
      "cell_type": "markdown",
      "source": [
        "Evaluate Decision Tree Model"
      ],
      "metadata": {
        "id": "-3rY536QvmMt"
      },
      "id": "-3rY536QvmMt"
    },
    {
      "cell_type": "code",
      "execution_count": null,
      "id": "c5832e96",
      "metadata": {
        "id": "c5832e96"
      },
      "outputs": [],
      "source": [
        "# Predict and evaluate Decision Tree\n",
        "y_pred_tree = dtree.predict(X_test)\n",
        "print(\"Decision Tree Accuracy:\", accuracy_score(y_test, y_pred_tree))\n",
        "print(\"Decision Tree Classification Report:\\n\" classification_report(y_test, y_pred_tree))"
      ]
    },
    {
      "cell_type": "markdown",
      "source": [
        "Confusion Matrix (Decision Tree)"
      ],
      "metadata": {
        "id": "Kh7wSqZxvqOd"
      },
      "id": "Kh7wSqZxvqOd"
    },
    {
      "cell_type": "code",
      "execution_count": null,
      "id": "ceea74d4",
      "metadata": {
        "id": "ceea74d4"
      },
      "outputs": [],
      "source": [
        "# Visualize confusion matrix\n",
        "conf_mat = confusion_matrix(y_test, y_pred_tree)\n",
        "sns.heatmap(conf_mat, annot=True, fmt='d', cmap='Blues',\n",
        "            xticklabels=iris.target_names, yticklabels=iris.target_names)\n",
        "plt.xlabel('Predicted')\n",
        "plt.ylabel('Actual')\n",
        "plt.title('Confusion Matrix - Decision Tree')\n",
        "plt.show()"
      ]
    }
  ],
  "metadata": {
    "colab": {
      "provenance": []
    }
  },
  "nbformat": 4,
  "nbformat_minor": 5
}